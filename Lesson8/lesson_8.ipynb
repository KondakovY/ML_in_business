{
 "cells": [
  {
   "cell_type": "markdown",
   "metadata": {},
   "source": [
    "Домашнее задание"
   ]
  },
  {
   "cell_type": "markdown",
   "metadata": {},
   "source": [
    "Взять датасет из google диска: https://drive.google.com/file/d/1MpWBFIbqu4mbiD0BBKYX6YhS-f4mN3Z_. Проверить гипотезу о том, в каком варианте теста (control/personalization) больше конверсия (converted) и значимо ли это отличие статистически."
   ]
  },
  {
   "cell_type": "code",
   "execution_count": 1,
   "metadata": {},
   "outputs": [],
   "source": [
    "import numpy as np\n",
    "import pandas as pd\n",
    "\n",
    "from statsmodels.stats import proportion"
   ]
  },
  {
   "cell_type": "code",
   "execution_count": 2,
   "metadata": {},
   "outputs": [
    {
     "data": {
      "text/html": [
       "<div>\n",
       "<style scoped>\n",
       "    .dataframe tbody tr th:only-of-type {\n",
       "        vertical-align: middle;\n",
       "    }\n",
       "\n",
       "    .dataframe tbody tr th {\n",
       "        vertical-align: top;\n",
       "    }\n",
       "\n",
       "    .dataframe thead th {\n",
       "        text-align: right;\n",
       "    }\n",
       "</style>\n",
       "<table border=\"1\" class=\"dataframe\">\n",
       "  <thead>\n",
       "    <tr style=\"text-align: right;\">\n",
       "      <th></th>\n",
       "      <th>user_id</th>\n",
       "      <th>date_served</th>\n",
       "      <th>marketing_channel</th>\n",
       "      <th>variant</th>\n",
       "      <th>language_displayed</th>\n",
       "      <th>converted</th>\n",
       "    </tr>\n",
       "  </thead>\n",
       "  <tbody>\n",
       "    <tr>\n",
       "      <th>0</th>\n",
       "      <td>a1000</td>\n",
       "      <td>1/1/18</td>\n",
       "      <td>House Ads</td>\n",
       "      <td>personalization</td>\n",
       "      <td>English</td>\n",
       "      <td>True</td>\n",
       "    </tr>\n",
       "    <tr>\n",
       "      <th>1</th>\n",
       "      <td>a1001</td>\n",
       "      <td>1/1/18</td>\n",
       "      <td>House Ads</td>\n",
       "      <td>personalization</td>\n",
       "      <td>English</td>\n",
       "      <td>True</td>\n",
       "    </tr>\n",
       "    <tr>\n",
       "      <th>2</th>\n",
       "      <td>a1002</td>\n",
       "      <td>1/1/18</td>\n",
       "      <td>House Ads</td>\n",
       "      <td>personalization</td>\n",
       "      <td>English</td>\n",
       "      <td>True</td>\n",
       "    </tr>\n",
       "    <tr>\n",
       "      <th>3</th>\n",
       "      <td>a1003</td>\n",
       "      <td>1/1/18</td>\n",
       "      <td>House Ads</td>\n",
       "      <td>personalization</td>\n",
       "      <td>English</td>\n",
       "      <td>True</td>\n",
       "    </tr>\n",
       "    <tr>\n",
       "      <th>4</th>\n",
       "      <td>a1004</td>\n",
       "      <td>1/1/18</td>\n",
       "      <td>House Ads</td>\n",
       "      <td>personalization</td>\n",
       "      <td>English</td>\n",
       "      <td>True</td>\n",
       "    </tr>\n",
       "    <tr>\n",
       "      <th>...</th>\n",
       "      <td>...</td>\n",
       "      <td>...</td>\n",
       "      <td>...</td>\n",
       "      <td>...</td>\n",
       "      <td>...</td>\n",
       "      <td>...</td>\n",
       "    </tr>\n",
       "    <tr>\n",
       "      <th>10032</th>\n",
       "      <td>a11032</td>\n",
       "      <td>1/17/18</td>\n",
       "      <td>Email</td>\n",
       "      <td>control</td>\n",
       "      <td>German</td>\n",
       "      <td>True</td>\n",
       "    </tr>\n",
       "    <tr>\n",
       "      <th>10033</th>\n",
       "      <td>a11033</td>\n",
       "      <td>1/17/18</td>\n",
       "      <td>Email</td>\n",
       "      <td>control</td>\n",
       "      <td>German</td>\n",
       "      <td>True</td>\n",
       "    </tr>\n",
       "    <tr>\n",
       "      <th>10034</th>\n",
       "      <td>a11034</td>\n",
       "      <td>1/5/18</td>\n",
       "      <td>Instagram</td>\n",
       "      <td>control</td>\n",
       "      <td>German</td>\n",
       "      <td>False</td>\n",
       "    </tr>\n",
       "    <tr>\n",
       "      <th>10035</th>\n",
       "      <td>a11035</td>\n",
       "      <td>1/17/18</td>\n",
       "      <td>Email</td>\n",
       "      <td>control</td>\n",
       "      <td>German</td>\n",
       "      <td>True</td>\n",
       "    </tr>\n",
       "    <tr>\n",
       "      <th>10036</th>\n",
       "      <td>a11036</td>\n",
       "      <td>1/6/18</td>\n",
       "      <td>Facebook</td>\n",
       "      <td>control</td>\n",
       "      <td>German</td>\n",
       "      <td>False</td>\n",
       "    </tr>\n",
       "  </tbody>\n",
       "</table>\n",
       "<p>10037 rows × 6 columns</p>\n",
       "</div>"
      ],
      "text/plain": [
       "      user_id date_served marketing_channel          variant  \\\n",
       "0       a1000      1/1/18         House Ads  personalization   \n",
       "1       a1001      1/1/18         House Ads  personalization   \n",
       "2       a1002      1/1/18         House Ads  personalization   \n",
       "3       a1003      1/1/18         House Ads  personalization   \n",
       "4       a1004      1/1/18         House Ads  personalization   \n",
       "...       ...         ...               ...              ...   \n",
       "10032  a11032     1/17/18             Email          control   \n",
       "10033  a11033     1/17/18             Email          control   \n",
       "10034  a11034      1/5/18         Instagram          control   \n",
       "10035  a11035     1/17/18             Email          control   \n",
       "10036  a11036      1/6/18          Facebook          control   \n",
       "\n",
       "      language_displayed converted  \n",
       "0                English      True  \n",
       "1                English      True  \n",
       "2                English      True  \n",
       "3                English      True  \n",
       "4                English      True  \n",
       "...                  ...       ...  \n",
       "10032             German      True  \n",
       "10033             German      True  \n",
       "10034             German     False  \n",
       "10035             German      True  \n",
       "10036             German     False  \n",
       "\n",
       "[10037 rows x 6 columns]"
      ]
     },
     "execution_count": 2,
     "metadata": {},
     "output_type": "execute_result"
    }
   ],
   "source": [
    "df = pd.read_csv('marketing_campaign.csv')\n",
    "df"
   ]
  },
  {
   "cell_type": "code",
   "execution_count": 3,
   "metadata": {},
   "outputs": [
    {
     "data": {
      "text/plain": [
       "control            5091\n",
       "personalization    4946\n",
       "Name: variant, dtype: int64"
      ]
     },
     "execution_count": 3,
     "metadata": {},
     "output_type": "execute_result"
    }
   ],
   "source": [
    "df['variant'].value_counts()"
   ]
  },
  {
   "cell_type": "code",
   "execution_count": 4,
   "metadata": {},
   "outputs": [
    {
     "data": {
      "text/plain": [
       "False    8946\n",
       "True     1076\n",
       "Name: converted, dtype: int64"
      ]
     },
     "execution_count": 4,
     "metadata": {},
     "output_type": "execute_result"
    }
   ],
   "source": [
    "df['converted'].value_counts()"
   ]
  },
  {
   "cell_type": "code",
   "execution_count": 5,
   "metadata": {},
   "outputs": [
    {
     "data": {
      "text/plain": [
       "(0.07287369868395208, 0.14253942579862516)"
      ]
     },
     "execution_count": 5,
     "metadata": {},
     "output_type": "execute_result"
    }
   ],
   "source": [
    "k1 = df[df['variant']=='control']['converted'].sum()\n",
    "n1 = df[df['variant']=='control'].shape[0]\n",
    "k2 = df[df['variant']=='personalization']['converted'].sum()\n",
    "n2 = df[df['variant']=='personalization'].shape[0]\n",
    "\n",
    "k1/n1, k2/n2"
   ]
  },
  {
   "cell_type": "code",
   "execution_count": 6,
   "metadata": {},
   "outputs": [
    {
     "name": "stdout",
     "output_type": "stream",
     "text": [
      "z_score=-11.279\n",
      "pvalue=0.000\n"
     ]
    }
   ],
   "source": [
    "z_score, z_pvalue = proportion.proportions_ztest(np.array([k1, k2]), \n",
    "                                                 np.array([n1, n2]))\n",
    "\n",
    "print(f'z_score={z_score:.3f}\\npvalue={z_pvalue:.3f}')"
   ]
  },
  {
   "cell_type": "markdown",
   "metadata": {},
   "source": [
    "Вывод: Н0 можно отвергнуть (значение pvalue меньше 0.05),различие в долях конверсии групп control и personalization имеют статистически важное значение."
   ]
  },
  {
   "cell_type": "code",
   "execution_count": null,
   "metadata": {},
   "outputs": [],
   "source": []
  }
 ],
 "metadata": {
  "colab": {
   "name": "lesson_8.ipynb",
   "provenance": []
  },
  "kernelspec": {
   "display_name": "Python 3",
   "language": "python",
   "name": "python3"
  },
  "language_info": {
   "codemirror_mode": {
    "name": "ipython",
    "version": 3
   },
   "file_extension": ".py",
   "mimetype": "text/x-python",
   "name": "python",
   "nbconvert_exporter": "python",
   "pygments_lexer": "ipython3",
   "version": "3.8.8"
  }
 },
 "nbformat": 4,
 "nbformat_minor": 1
}
